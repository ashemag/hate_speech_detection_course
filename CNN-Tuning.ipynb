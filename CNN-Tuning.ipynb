{
 "cells": [
  {
   "cell_type": "markdown",
   "metadata": {},
   "source": [
    "# Tuning our CNN "
   ]
  },
  {
   "cell_type": "code",
   "execution_count": 2,
   "metadata": {},
   "outputs": [],
   "source": [
    "import tensorflow as tf \n",
    "import pandas as pd \n",
    "import numpy as np "
   ]
  },
  {
   "cell_type": "code",
   "execution_count": 3,
   "metadata": {},
   "outputs": [],
   "source": [
    "# Load the TensorBoard notebook extension\n",
    "%load_ext tensorboard"
   ]
  },
  {
   "cell_type": "code",
   "execution_count": 4,
   "metadata": {},
   "outputs": [],
   "source": [
    "# Load in data\n",
    "import pandas as pd \n",
    "data = pd.read_pickle('data/data.pickle')\n",
    "X_tfidf = pd.read_pickle('data/tfidf.pickle')\n"
   ]
  },
  {
   "cell_type": "code",
   "execution_count": 5,
   "metadata": {},
   "outputs": [],
   "source": [
    "# one hot encoding \n",
    "Y = tf.keras.utils.to_categorical(data['class'])\n",
    "num_classes = len(Y[0])\n",
    "EPOCHS=5"
   ]
  },
  {
   "cell_type": "markdown",
   "metadata": {},
   "source": [
    "## Adding F-Score, precision, recall"
   ]
  },
  {
   "cell_type": "code",
   "execution_count": 6,
   "metadata": {},
   "outputs": [
    {
     "name": "stderr",
     "output_type": "stream",
     "text": [
      "Using TensorFlow backend.\n"
     ]
    }
   ],
   "source": [
    "from keras import backend as K\n",
    "\n",
    "def recall_m(y_true, y_pred):\n",
    "    true_positives = K.sum(K.round(K.clip(y_true * y_pred, 0, 1)))\n",
    "    possible_positives = K.sum(K.round(K.clip(y_true, 0, 1)))\n",
    "    recall = true_positives / (possible_positives + K.epsilon())\n",
    "    return recall\n",
    "\n",
    "def precision_m(y_true, y_pred):\n",
    "    true_positives = K.sum(K.round(K.clip(y_true * y_pred, 0, 1)))\n",
    "    predicted_positives = K.sum(K.round(K.clip(y_pred, 0, 1)))\n",
    "    precision = true_positives / (predicted_positives + K.epsilon())\n",
    "    return precision\n",
    "\n",
    "def f1_m(y_true, y_pred):\n",
    "    precision = precision_m(y_true, y_pred)\n",
    "    recall = recall_m(y_true, y_pred)\n",
    "    return 2*((precision*recall)/(precision+recall+K.epsilon()))\n",
    "\n",
    "def cnn(filters=3, kernel_size=2, optimizer='sgd', pool_size=2, num_classes=3):\n",
    "    model = tf.keras.models.Sequential()\n",
    "    \n",
    "    model.add(tf.keras.layers.Conv1D(filters=filters, kernel_size=kernel_size, activation='relu'))\n",
    "    model.add(tf.keras.layers.MaxPool1D(pool_size))\n",
    "    \n",
    "    # final fully connected layer \n",
    "    model.add(tf.keras.layers.Flatten())\n",
    "    model.add(tf.keras.layers.Dense(num_classes, activation=tf.nn.softmax))\n",
    "    model.compile(loss='categorical_crossentropy', optimizer=optimizer, metrics=['accuracy', f1_m, precision_m, recall_m])\n",
    "    return model \n",
    "\n",
    "model = cnn()\n",
    "X = np.array(data['tweet_embedded'].to_list())\n",
    "\n",
    "\n"
   ]
  },
  {
   "cell_type": "markdown",
   "metadata": {},
   "source": [
    "## Tensorboard"
   ]
  },
  {
   "cell_type": "code",
   "execution_count": 11,
   "metadata": {},
   "outputs": [
    {
     "name": "stdout",
     "output_type": "stream",
     "text": [
      "Train on 24783 samples\n",
      "Epoch 1/5\n",
      "24783/24783 [==============================] - 3s 138us/sample - loss: 0.4015 - accuracy: 0.8569 - f1_m: 0.8550 - precision_m: 0.8744 - recall_m: 0.8371\n",
      "Epoch 2/5\n",
      "24783/24783 [==============================] - 4s 168us/sample - loss: 0.3940 - accuracy: 0.8599 - f1_m: 0.8574 - precision_m: 0.8755 - recall_m: 0.8405\n",
      "Epoch 3/5\n",
      "24783/24783 [==============================] - 6s 256us/sample - loss: 0.3876 - accuracy: 0.8628 - f1_m: 0.8608 - precision_m: 0.8778 - recall_m: 0.8449\n",
      "Epoch 4/5\n",
      "24783/24783 [==============================] - 13s 535us/sample - loss: 0.3828 - accuracy: 0.8645 - f1_m: 0.8625 - precision_m: 0.8789 - recall_m: 0.84720s - loss: 0.3902 - accuracy: 0.8631 - f1_m: 0.8600 - preci\n",
      "Epoch 5/5\n",
      "24783/24783 [==============================] - 4s 166us/sample - loss: 0.3791 - accuracy: 0.8664 - f1_m: 0.8643 - precision_m: 0.8799 - recall_m: 0.8497\n"
     ]
    },
    {
     "data": {
      "text/plain": [
       "<tensorflow.python.keras.callbacks.History at 0x131ecc908>"
      ]
     },
     "execution_count": 11,
     "metadata": {},
     "output_type": "execute_result"
    }
   ],
   "source": [
    "import shutil \n",
    "import os\n",
    "\n",
    "logdir='logs_CNN'\n",
    "tensorboard_callback = tf.keras.callbacks.TensorBoard(logdir, histogram_freq=1)\n",
    "model.fit(X, Y, epochs=EPOCHS, callbacks=[tensorboard_callback])"
   ]
  },
  {
   "cell_type": "code",
   "execution_count": 15,
   "metadata": {},
   "outputs": [
    {
     "name": "stdout",
     "output_type": "stream",
     "text": [
      "Train on 17348 samples, validate on 7435 samples\n",
      "Epoch 1/5\n",
      "17348/17348 [==============================] - 2s 139us/sample - loss: 0.3920 - accuracy: 0.8607 - f1_m: 0.8594 - precision_m: 0.8761 - recall_m: 0.8438 - val_loss: 0.3606 - val_accuracy: 0.8746 - val_f1_m: 0.8714 - val_precision_m: 0.8883 - val_recall_m: 0.8557\n",
      "Epoch 2/5\n",
      "17348/17348 [==============================] - 2s 130us/sample - loss: 0.3877 - accuracy: 0.8614 - f1_m: 0.8618 - precision_m: 0.8790 - recall_m: 0.8457 - val_loss: 0.3454 - val_accuracy: 0.8796 - val_f1_m: 0.8769 - val_precision_m: 0.8937 - val_recall_m: 0.8612\n",
      "Epoch 3/5\n",
      "17348/17348 [==============================] - 2s 139us/sample - loss: 0.3832 - accuracy: 0.8649 - f1_m: 0.8633 - precision_m: 0.8799 - recall_m: 0.8480 - val_loss: 0.3389 - val_accuracy: 0.8802 - val_f1_m: 0.8801 - val_precision_m: 0.8948 - val_recall_m: 0.8665\n",
      "Epoch 4/5\n",
      "17348/17348 [==============================] - 2s 143us/sample - loss: 0.3799 - accuracy: 0.8659 - f1_m: 0.8634 - precision_m: 0.8787 - recall_m: 0.8491 - val_loss: 0.3633 - val_accuracy: 0.8718 - val_f1_m: 0.8709 - val_precision_m: 0.8861 - val_recall_m: 0.8568\n",
      "Epoch 5/5\n",
      "17348/17348 [==============================] - 2s 142us/sample - loss: 0.3764 - accuracy: 0.8673 - f1_m: 0.8660 - precision_m: 0.8822 - recall_m: 0.8508 - val_loss: 0.3500 - val_accuracy: 0.8771 - val_f1_m: 0.8752 - val_precision_m: 0.8866 - val_recall_m: 0.8644\n"
     ]
    },
    {
     "data": {
      "text/plain": [
       "<tensorflow.python.keras.callbacks.History at 0x131e5d9e8>"
      ]
     },
     "execution_count": 15,
     "metadata": {},
     "output_type": "execute_result"
    }
   ],
   "source": [
    "model.fit(X, Y, epochs=EPOCHS, callbacks=[tensorboard_callback], validation_split=.3)"
   ]
  },
  {
   "cell_type": "code",
   "execution_count": 17,
   "metadata": {},
   "outputs": [
    {
     "name": "stdout",
     "output_type": "stream",
     "text": [
      "Train on 17348 samples, validate on 7435 samples\n",
      "Epoch 1/100\n",
      "17348/17348 [==============================] - 5s 314us/sample - loss: 0.6747 - accuracy: 0.7573 - f1_m: 0.7447 - precision_m: 0.7590 - recall_m: 0.7404 - val_loss: 0.5524 - val_accuracy: 0.7898 - val_f1_m: 0.7893 - val_precision_m: 0.7921 - val_recall_m: 0.7865\n",
      "Epoch 2/100\n",
      "17348/17348 [==============================] - 3s 174us/sample - loss: 0.5550 - accuracy: 0.7853 - f1_m: 0.7833 - precision_m: 0.8010 - recall_m: 0.7670 - val_loss: 0.4521 - val_accuracy: 0.8377 - val_f1_m: 0.8295 - val_precision_m: 0.8580 - val_recall_m: 0.8041\n",
      "Epoch 3/100\n",
      "17348/17348 [==============================] - 3s 152us/sample - loss: 0.4864 - accuracy: 0.8197 - f1_m: 0.8153 - precision_m: 0.8401 - recall_m: 0.7927 - val_loss: 0.4192 - val_accuracy: 0.8460 - val_f1_m: 0.8442 - val_precision_m: 0.8666 - val_recall_m: 0.8237\n",
      "Epoch 4/100\n",
      "17348/17348 [==============================] - 3s 160us/sample - loss: 0.4556 - accuracy: 0.8299 - f1_m: 0.8280 - precision_m: 0.8501 - recall_m: 0.8076 - val_loss: 0.4030 - val_accuracy: 0.8533 - val_f1_m: 0.8513 - val_precision_m: 0.8702 - val_recall_m: 0.8339\n",
      "Epoch 5/100\n",
      "17348/17348 [==============================] - 3s 164us/sample - loss: 0.4353 - accuracy: 0.8399 - f1_m: 0.8377 - precision_m: 0.8587 - recall_m: 0.8184 - val_loss: 0.4004 - val_accuracy: 0.8555 - val_f1_m: 0.8519 - val_precision_m: 0.8698 - val_recall_m: 0.8353\n",
      "Epoch 6/100\n",
      "17348/17348 [==============================] - 3s 172us/sample - loss: 0.4178 - accuracy: 0.8471 - f1_m: 0.8462 - precision_m: 0.8657 - recall_m: 0.8282 - val_loss: 0.4114 - val_accuracy: 0.8500 - val_f1_m: 0.8482 - val_precision_m: 0.8607 - val_recall_m: 0.8365\n",
      "Epoch 7/100\n",
      "17348/17348 [==============================] - 3s 178us/sample - loss: 0.4028 - accuracy: 0.8531 - f1_m: 0.8514 - precision_m: 0.8693 - recall_m: 0.8349 - val_loss: 0.3845 - val_accuracy: 0.8624 - val_f1_m: 0.8605 - val_precision_m: 0.8740 - val_recall_m: 0.8479\n",
      "Epoch 8/100\n",
      "17348/17348 [==============================] - 4s 209us/sample - loss: 0.3885 - accuracy: 0.8585 - f1_m: 0.8564 - precision_m: 0.8735 - recall_m: 0.8405 - val_loss: 0.3977 - val_accuracy: 0.8620 - val_f1_m: 0.8558 - val_precision_m: 0.8795 - val_recall_m: 0.8343\n",
      "Epoch 9/100\n",
      "17348/17348 [==============================] - 4s 215us/sample - loss: 0.3750 - accuracy: 0.8624 - f1_m: 0.8618 - precision_m: 0.8792 - recall_m: 0.8456 - val_loss: 0.3975 - val_accuracy: 0.8562 - val_f1_m: 0.8544 - val_precision_m: 0.8744 - val_recall_m: 0.8360\n",
      "Epoch 10/100\n",
      "17348/17348 [==============================] - 4s 236us/sample - loss: 0.3605 - accuracy: 0.8692 - f1_m: 0.8684 - precision_m: 0.8844 - recall_m: 0.8533 - val_loss: 0.3849 - val_accuracy: 0.8600 - val_f1_m: 0.8589 - val_precision_m: 0.8715 - val_recall_m: 0.8471\n",
      "Epoch 11/100\n",
      "17348/17348 [==============================] - 4s 220us/sample - loss: 0.3466 - accuracy: 0.8733 - f1_m: 0.8728 - precision_m: 0.8881 - recall_m: 0.8585 - val_loss: 0.4027 - val_accuracy: 0.8510 - val_f1_m: 0.8475 - val_precision_m: 0.8631 - val_recall_m: 0.8329\n",
      "Epoch 12/100\n",
      "17348/17348 [==============================] - 4s 210us/sample - loss: 0.3326 - accuracy: 0.8799 - f1_m: 0.8787 - precision_m: 0.8939 - recall_m: 0.8645 - val_loss: 0.4219 - val_accuracy: 0.8425 - val_f1_m: 0.8390 - val_precision_m: 0.8529 - val_recall_m: 0.8261\n",
      "Epoch 13/100\n",
      "17348/17348 [==============================] - 3s 174us/sample - loss: 0.3187 - accuracy: 0.8871 - f1_m: 0.8858 - precision_m: 0.9003 - recall_m: 0.8721 - val_loss: 0.4031 - val_accuracy: 0.8555 - val_f1_m: 0.8544 - val_precision_m: 0.8654 - val_recall_m: 0.8441\n",
      "Epoch 14/100\n",
      "17348/17348 [==============================] - 2s 141us/sample - loss: 0.3066 - accuracy: 0.8911 - f1_m: 0.8910 - precision_m: 0.9043 - recall_m: 0.8785 - val_loss: 0.3818 - val_accuracy: 0.8590 - val_f1_m: 0.8573 - val_precision_m: 0.8697 - val_recall_m: 0.8457\n",
      "Epoch 15/100\n",
      "17348/17348 [==============================] - 2s 129us/sample - loss: 0.2926 - accuracy: 0.8961 - f1_m: 0.8961 - precision_m: 0.9090 - recall_m: 0.8840 - val_loss: 0.3820 - val_accuracy: 0.8613 - val_f1_m: 0.8587 - val_precision_m: 0.8702 - val_recall_m: 0.8479\n",
      "Epoch 16/100\n",
      "17348/17348 [==============================] - 2s 125us/sample - loss: 0.2803 - accuracy: 0.9022 - f1_m: 0.9012 - precision_m: 0.9132 - recall_m: 0.8898 - val_loss: 0.3866 - val_accuracy: 0.8615 - val_f1_m: 0.8605 - val_precision_m: 0.8684 - val_recall_m: 0.8530\n",
      "Epoch 17/100\n",
      "17348/17348 [==============================] - 2s 125us/sample - loss: 0.2681 - accuracy: 0.9083 - f1_m: 0.9064 - precision_m: 0.9169 - recall_m: 0.8964 - val_loss: 0.4851 - val_accuracy: 0.8198 - val_f1_m: 0.8182 - val_precision_m: 0.8305 - val_recall_m: 0.8066\n",
      "Epoch 18/100\n",
      "17348/17348 [==============================] - 2s 126us/sample - loss: 0.2553 - accuracy: 0.9132 - f1_m: 0.9113 - precision_m: 0.9205 - recall_m: 0.9025 - val_loss: 0.4185 - val_accuracy: 0.8545 - val_f1_m: 0.8548 - val_precision_m: 0.8610 - val_recall_m: 0.8489\n",
      "Epoch 19/100\n",
      "17348/17348 [==============================] - 2s 125us/sample - loss: 0.2447 - accuracy: 0.9176 - f1_m: 0.9167 - precision_m: 0.9263 - recall_m: 0.9076 - val_loss: 0.7215 - val_accuracy: 0.7531 - val_f1_m: 0.7489 - val_precision_m: 0.7642 - val_recall_m: 0.7346\n",
      "Epoch 20/100\n",
      "17348/17348 [==============================] - 2s 137us/sample - loss: 0.2333 - accuracy: 0.9211 - f1_m: 0.9211 - precision_m: 0.9309 - recall_m: 0.9118 - val_loss: 0.4048 - val_accuracy: 0.8596 - val_f1_m: 0.8572 - val_precision_m: 0.8649 - val_recall_m: 0.8498\n",
      "Epoch 21/100\n",
      "17348/17348 [==============================] - 2s 136us/sample - loss: 0.2207 - accuracy: 0.9263 - f1_m: 0.9268 - precision_m: 0.9356 - recall_m: 0.9185 - val_loss: 0.4430 - val_accuracy: 0.8424 - val_f1_m: 0.8408 - val_precision_m: 0.8521 - val_recall_m: 0.8301\n",
      "Epoch 22/100\n",
      "17348/17348 [==============================] - 2s 142us/sample - loss: 0.2101 - accuracy: 0.9316 - f1_m: 0.9306 - precision_m: 0.9387 - recall_m: 0.9228 - val_loss: 0.4221 - val_accuracy: 0.8562 - val_f1_m: 0.8549 - val_precision_m: 0.8617 - val_recall_m: 0.8485\n",
      "Epoch 23/100\n",
      "17348/17348 [==============================] - 3s 154us/sample - loss: 0.2008 - accuracy: 0.9350 - f1_m: 0.9345 - precision_m: 0.9417 - recall_m: 0.9277 - val_loss: 0.5322 - val_accuracy: 0.8153 - val_f1_m: 0.8139 - val_precision_m: 0.8247 - val_recall_m: 0.8037\n",
      "Epoch 24/100\n",
      "17348/17348 [==============================] - 3s 172us/sample - loss: 0.1894 - accuracy: 0.9397 - f1_m: 0.9386 - precision_m: 0.9462 - recall_m: 0.9312 - val_loss: 0.5551 - val_accuracy: 0.8136 - val_f1_m: 0.8131 - val_precision_m: 0.8193 - val_recall_m: 0.8072\n",
      "Epoch 25/100\n",
      "17348/17348 [==============================] - 3s 171us/sample - loss: 0.1799 - accuracy: 0.9437 - f1_m: 0.9439 - precision_m: 0.9503 - recall_m: 0.9378 - val_loss: 0.4469 - val_accuracy: 0.8564 - val_f1_m: 0.8552 - val_precision_m: 0.8611 - val_recall_m: 0.8496\n",
      "Epoch 26/100\n",
      "17348/17348 [==============================] - 3s 163us/sample - loss: 0.1694 - accuracy: 0.9489 - f1_m: 0.9490 - precision_m: 0.9550 - recall_m: 0.9433 - val_loss: 0.4641 - val_accuracy: 0.8494 - val_f1_m: 0.8482 - val_precision_m: 0.8566 - val_recall_m: 0.8404\n",
      "Epoch 27/100\n",
      "17348/17348 [==============================] - 2s 142us/sample - loss: 0.1594 - accuracy: 0.9512 - f1_m: 0.9513 - precision_m: 0.9575 - recall_m: 0.9454 - val_loss: 0.4625 - val_accuracy: 0.8503 - val_f1_m: 0.8491 - val_precision_m: 0.8570 - val_recall_m: 0.8415\n",
      "Epoch 28/100\n",
      "17348/17348 [==============================] - 2s 134us/sample - loss: 0.1514 - accuracy: 0.9539 - f1_m: 0.9536 - precision_m: 0.9589 - recall_m: 0.9484 - val_loss: 0.5225 - val_accuracy: 0.8285 - val_f1_m: 0.8273 - val_precision_m: 0.8366 - val_recall_m: 0.8186\n",
      "Epoch 29/100\n",
      "17348/17348 [==============================] - 2s 135us/sample - loss: 0.1435 - accuracy: 0.9580 - f1_m: 0.9578 - precision_m: 0.9632 - recall_m: 0.9526 - val_loss: 0.4843 - val_accuracy: 0.8484 - val_f1_m: 0.8486 - val_precision_m: 0.8553 - val_recall_m: 0.8423\n",
      "Epoch 30/100\n"
     ]
    },
    {
     "name": "stdout",
     "output_type": "stream",
     "text": [
      "17348/17348 [==============================] - 2s 126us/sample - loss: 0.1338 - accuracy: 0.9618 - f1_m: 0.9614 - precision_m: 0.9663 - recall_m: 0.9567 - val_loss: 0.6215 - val_accuracy: 0.8067 - val_f1_m: 0.8058 - val_precision_m: 0.8125 - val_recall_m: 0.7995\n",
      "Epoch 31/100\n",
      "17348/17348 [==============================] - 2s 123us/sample - loss: 0.1263 - accuracy: 0.9641 - f1_m: 0.9638 - precision_m: 0.9681 - recall_m: 0.9597 - val_loss: 0.5083 - val_accuracy: 0.8421 - val_f1_m: 0.8425 - val_precision_m: 0.8494 - val_recall_m: 0.8359\n",
      "Epoch 32/100\n",
      "17348/17348 [==============================] - 2s 123us/sample - loss: 0.1184 - accuracy: 0.9675 - f1_m: 0.9673 - precision_m: 0.9710 - recall_m: 0.9637 - val_loss: 0.5428 - val_accuracy: 0.8459 - val_f1_m: 0.8464 - val_precision_m: 0.8494 - val_recall_m: 0.8434\n",
      "Epoch 33/100\n",
      "17348/17348 [==============================] - 2s 131us/sample - loss: 0.1106 - accuracy: 0.9709 - f1_m: 0.9708 - precision_m: 0.9741 - recall_m: 0.9677 - val_loss: 0.5640 - val_accuracy: 0.8491 - val_f1_m: 0.8486 - val_precision_m: 0.8521 - val_recall_m: 0.8453\n",
      "Epoch 34/100\n",
      "17348/17348 [==============================] - 2s 134us/sample - loss: 0.1035 - accuracy: 0.9731 - f1_m: 0.9729 - precision_m: 0.9763 - recall_m: 0.9696 - val_loss: 0.5625 - val_accuracy: 0.8498 - val_f1_m: 0.8498 - val_precision_m: 0.8531 - val_recall_m: 0.8466\n",
      "Epoch 35/100\n",
      "17348/17348 [==============================] - 2s 143us/sample - loss: 0.0974 - accuracy: 0.9740 - f1_m: 0.9737 - precision_m: 0.9769 - recall_m: 0.9706 - val_loss: 0.5572 - val_accuracy: 0.8451 - val_f1_m: 0.8445 - val_precision_m: 0.8490 - val_recall_m: 0.8402\n",
      "Epoch 36/100\n",
      "17348/17348 [==============================] - 3s 162us/sample - loss: 0.0902 - accuracy: 0.9767 - f1_m: 0.9768 - precision_m: 0.9795 - recall_m: 0.9742 - val_loss: 0.5719 - val_accuracy: 0.8389 - val_f1_m: 0.8383 - val_precision_m: 0.8434 - val_recall_m: 0.8335\n",
      "Epoch 37/100\n",
      "17348/17348 [==============================] - 3s 162us/sample - loss: 0.0840 - accuracy: 0.9793 - f1_m: 0.9795 - precision_m: 0.9819 - recall_m: 0.9772 - val_loss: 0.5957 - val_accuracy: 0.8373 - val_f1_m: 0.8367 - val_precision_m: 0.8413 - val_recall_m: 0.8323\n",
      "Epoch 38/100\n",
      "17348/17348 [==============================] - 3s 170us/sample - loss: 0.0787 - accuracy: 0.9814 - f1_m: 0.9812 - precision_m: 0.9837 - recall_m: 0.9788 - val_loss: 0.6002 - val_accuracy: 0.8340 - val_f1_m: 0.8333 - val_precision_m: 0.8398 - val_recall_m: 0.8272\n",
      "Epoch 39/100\n",
      "17348/17348 [==============================] - 2s 137us/sample - loss: 0.0724 - accuracy: 0.9841 - f1_m: 0.9840 - precision_m: 0.9864 - recall_m: 0.9817 - val_loss: 0.6150 - val_accuracy: 0.8426 - val_f1_m: 0.8422 - val_precision_m: 0.8451 - val_recall_m: 0.8394\n",
      "Epoch 40/100\n",
      "17348/17348 [==============================] - 2s 133us/sample - loss: 0.0676 - accuracy: 0.9851 - f1_m: 0.9848 - precision_m: 0.9869 - recall_m: 0.9829 - val_loss: 1.3425 - val_accuracy: 0.7267 - val_f1_m: 0.7253 - val_precision_m: 0.7279 - val_recall_m: 0.7228\n",
      "Epoch 41/100\n",
      "17348/17348 [==============================] - 2s 133us/sample - loss: 0.0638 - accuracy: 0.9866 - f1_m: 0.9867 - precision_m: 0.9880 - recall_m: 0.9854 - val_loss: 0.6459 - val_accuracy: 0.8421 - val_f1_m: 0.8414 - val_precision_m: 0.8446 - val_recall_m: 0.8383\n",
      "Epoch 42/100\n",
      "17348/17348 [==============================] - 2s 133us/sample - loss: 0.0589 - accuracy: 0.9873 - f1_m: 0.9875 - precision_m: 0.9889 - recall_m: 0.9861 - val_loss: 0.6832 - val_accuracy: 0.8422 - val_f1_m: 0.8417 - val_precision_m: 0.8447 - val_recall_m: 0.8388\n",
      "Epoch 43/100\n",
      "17348/17348 [==============================] - 2s 138us/sample - loss: 0.0544 - accuracy: 0.9894 - f1_m: 0.9891 - precision_m: 0.9907 - recall_m: 0.9875 - val_loss: 0.6968 - val_accuracy: 0.8295 - val_f1_m: 0.8290 - val_precision_m: 0.8342 - val_recall_m: 0.8241\n",
      "Epoch 44/100\n",
      "17348/17348 [==============================] - 2s 143us/sample - loss: 0.0497 - accuracy: 0.9908 - f1_m: 0.9907 - precision_m: 0.9919 - recall_m: 0.9896 - val_loss: 0.7954 - val_accuracy: 0.7820 - val_f1_m: 0.7811 - val_precision_m: 0.7875 - val_recall_m: 0.7750\n",
      "Epoch 45/100\n",
      "17348/17348 [==============================] - 3s 162us/sample - loss: 0.0466 - accuracy: 0.9918 - f1_m: 0.9915 - precision_m: 0.9928 - recall_m: 0.9903 - val_loss: 0.6933 - val_accuracy: 0.8383 - val_f1_m: 0.8378 - val_precision_m: 0.8407 - val_recall_m: 0.8349\n",
      "Epoch 46/100\n",
      "17348/17348 [==============================] - 3s 160us/sample - loss: 0.0426 - accuracy: 0.9924 - f1_m: 0.9927 - precision_m: 0.9935 - recall_m: 0.9918 - val_loss: 0.7140 - val_accuracy: 0.8295 - val_f1_m: 0.8288 - val_precision_m: 0.8331 - val_recall_m: 0.8248\n",
      "Epoch 47/100\n",
      "17348/17348 [==============================] - 3s 162us/sample - loss: 0.0396 - accuracy: 0.9937 - f1_m: 0.9938 - precision_m: 0.9947 - recall_m: 0.9929 - val_loss: 0.7235 - val_accuracy: 0.8391 - val_f1_m: 0.8380 - val_precision_m: 0.8403 - val_recall_m: 0.8358\n",
      "Epoch 48/100\n",
      "17348/17348 [==============================] - 3s 171us/sample - loss: 0.0366 - accuracy: 0.9946 - f1_m: 0.9947 - precision_m: 0.9953 - recall_m: 0.9942 - val_loss: 0.7416 - val_accuracy: 0.8421 - val_f1_m: 0.8420 - val_precision_m: 0.8442 - val_recall_m: 0.8398\n",
      "Epoch 49/100\n",
      "17348/17348 [==============================] - 3s 176us/sample - loss: 0.0337 - accuracy: 0.9953 - f1_m: 0.9953 - precision_m: 0.9958 - recall_m: 0.9948 - val_loss: 0.7666 - val_accuracy: 0.8249 - val_f1_m: 0.8239 - val_precision_m: 0.8277 - val_recall_m: 0.8203\n",
      "Epoch 50/100\n",
      "17348/17348 [==============================] - 3s 185us/sample - loss: 0.0315 - accuracy: 0.9956 - f1_m: 0.9955 - precision_m: 0.9960 - recall_m: 0.9951 - val_loss: 0.7623 - val_accuracy: 0.8342 - val_f1_m: 0.8332 - val_precision_m: 0.8355 - val_recall_m: 0.8309\n",
      "Epoch 51/100\n",
      "17348/17348 [==============================] - 3s 178us/sample - loss: 0.0291 - accuracy: 0.9965 - f1_m: 0.9963 - precision_m: 0.9968 - recall_m: 0.9959 - val_loss: 0.7771 - val_accuracy: 0.8391 - val_f1_m: 0.8392 - val_precision_m: 0.8415 - val_recall_m: 0.8370\n",
      "Epoch 52/100\n",
      "17348/17348 [==============================] - 3s 178us/sample - loss: 0.0269 - accuracy: 0.9974 - f1_m: 0.9972 - precision_m: 0.9975 - recall_m: 0.9969 - val_loss: 0.7870 - val_accuracy: 0.8346 - val_f1_m: 0.8345 - val_precision_m: 0.8372 - val_recall_m: 0.8319\n",
      "Epoch 53/100\n",
      "17348/17348 [==============================] - 3s 192us/sample - loss: 0.0245 - accuracy: 0.9979 - f1_m: 0.9978 - precision_m: 0.9981 - recall_m: 0.9975 - val_loss: 0.7936 - val_accuracy: 0.8304 - val_f1_m: 0.8302 - val_precision_m: 0.8329 - val_recall_m: 0.8276\n",
      "Epoch 54/100\n",
      "17348/17348 [==============================] - 4s 207us/sample - loss: 0.0232 - accuracy: 0.9976 - f1_m: 0.9973 - precision_m: 0.9976 - recall_m: 0.9971 - val_loss: 0.8049 - val_accuracy: 0.8280 - val_f1_m: 0.8278 - val_precision_m: 0.8307 - val_recall_m: 0.8250\n",
      "Epoch 55/100\n",
      "17348/17348 [==============================] - 4s 240us/sample - loss: 0.0219 - accuracy: 0.9980 - f1_m: 0.9979 - precision_m: 0.9982 - recall_m: 0.9977 - val_loss: 0.8171 - val_accuracy: 0.8250 - val_f1_m: 0.8246 - val_precision_m: 0.8273 - val_recall_m: 0.8219\n",
      "Epoch 56/100\n",
      "17348/17348 [==============================] - 3s 195us/sample - loss: 0.0197 - accuracy: 0.9984 - f1_m: 0.9984 - precision_m: 0.9986 - recall_m: 0.9983 - val_loss: 0.8507 - val_accuracy: 0.8241 - val_f1_m: 0.8241 - val_precision_m: 0.8267 - val_recall_m: 0.8215\n",
      "Epoch 57/100\n",
      "17348/17348 [==============================] - 3s 171us/sample - loss: 0.0191 - accuracy: 0.9983 - f1_m: 0.9982 - precision_m: 0.9984 - recall_m: 0.9980 - val_loss: 0.8417 - val_accuracy: 0.8378 - val_f1_m: 0.8374 - val_precision_m: 0.8390 - val_recall_m: 0.8359\n",
      "Epoch 58/100\n",
      "17348/17348 [==============================] - 3s 149us/sample - loss: 0.0176 - accuracy: 0.9989 - f1_m: 0.9989 - precision_m: 0.9989 - recall_m: 0.9988 - val_loss: 0.8644 - val_accuracy: 0.8387 - val_f1_m: 0.8382 - val_precision_m: 0.8399 - val_recall_m: 0.8364\n",
      "Epoch 59/100\n",
      "17348/17348 [==============================] - 2s 137us/sample - loss: 0.0171 - accuracy: 0.9987 - f1_m: 0.9986 - precision_m: 0.9987 - recall_m: 0.9986 - val_loss: 0.8608 - val_accuracy: 0.8227 - val_f1_m: 0.8229 - val_precision_m: 0.8254 - val_recall_m: 0.8205\n"
     ]
    },
    {
     "name": "stdout",
     "output_type": "stream",
     "text": [
      "Epoch 60/100\n",
      "17348/17348 [==============================] - 2s 130us/sample - loss: 0.0159 - accuracy: 0.9987 - f1_m: 0.9988 - precision_m: 0.9988 - recall_m: 0.9987 - val_loss: 0.8797 - val_accuracy: 0.8252 - val_f1_m: 0.8248 - val_precision_m: 0.8268 - val_recall_m: 0.8229\n",
      "Epoch 61/100\n",
      "17348/17348 [==============================] - 2s 130us/sample - loss: 0.0148 - accuracy: 0.9989 - f1_m: 0.9989 - precision_m: 0.9989 - recall_m: 0.9989 - val_loss: 0.9601 - val_accuracy: 0.8389 - val_f1_m: 0.8383 - val_precision_m: 0.8397 - val_recall_m: 0.8370\n",
      "Epoch 62/100\n",
      "17348/17348 [==============================] - 2s 133us/sample - loss: 0.0139 - accuracy: 0.9992 - f1_m: 0.9992 - precision_m: 0.9993 - recall_m: 0.9991 - val_loss: 0.8986 - val_accuracy: 0.8242 - val_f1_m: 0.8236 - val_precision_m: 0.8254 - val_recall_m: 0.8219\n",
      "Epoch 63/100\n",
      "17348/17348 [==============================] - 2s 143us/sample - loss: 0.0135 - accuracy: 0.9991 - f1_m: 0.9991 - precision_m: 0.9991 - recall_m: 0.9991 - val_loss: 0.9062 - val_accuracy: 0.8264 - val_f1_m: 0.8263 - val_precision_m: 0.8281 - val_recall_m: 0.8246\n",
      "Epoch 64/100\n",
      "17348/17348 [==============================] - 3s 158us/sample - loss: 0.0129 - accuracy: 0.9989 - f1_m: 0.9989 - precision_m: 0.9990 - recall_m: 0.9989 - val_loss: 0.9209 - val_accuracy: 0.8367 - val_f1_m: 0.8365 - val_precision_m: 0.8380 - val_recall_m: 0.8349\n",
      "Epoch 65/100\n",
      "17348/17348 [==============================] - 3s 152us/sample - loss: 0.0124 - accuracy: 0.9988 - f1_m: 0.9988 - precision_m: 0.9988 - recall_m: 0.9988 - val_loss: 0.9105 - val_accuracy: 0.8291 - val_f1_m: 0.8287 - val_precision_m: 0.8305 - val_recall_m: 0.8270\n",
      "Epoch 66/100\n",
      "17348/17348 [==============================] - 3s 152us/sample - loss: 0.0119 - accuracy: 0.9990 - f1_m: 0.9990 - precision_m: 0.9991 - recall_m: 0.9990 - val_loss: 0.9186 - val_accuracy: 0.8261 - val_f1_m: 0.8262 - val_precision_m: 0.8280 - val_recall_m: 0.8245\n",
      "Epoch 67/100\n",
      "17348/17348 [==============================] - 3s 147us/sample - loss: 0.0114 - accuracy: 0.9993 - f1_m: 0.9992 - precision_m: 0.9993 - recall_m: 0.9992 - val_loss: 0.9288 - val_accuracy: 0.8328 - val_f1_m: 0.8326 - val_precision_m: 0.8342 - val_recall_m: 0.8311\n",
      "Epoch 68/100\n",
      "17348/17348 [==============================] - 3s 151us/sample - loss: 0.0109 - accuracy: 0.9991 - f1_m: 0.9991 - precision_m: 0.9992 - recall_m: 0.9991 - val_loss: 0.9364 - val_accuracy: 0.8242 - val_f1_m: 0.8239 - val_precision_m: 0.8254 - val_recall_m: 0.8223\n",
      "Epoch 69/100\n",
      "17348/17348 [==============================] - 2s 143us/sample - loss: 0.0101 - accuracy: 0.9994 - f1_m: 0.9994 - precision_m: 0.9994 - recall_m: 0.9994 - val_loss: 0.9559 - val_accuracy: 0.8377 - val_f1_m: 0.8370 - val_precision_m: 0.8384 - val_recall_m: 0.8356\n",
      "Epoch 70/100\n",
      "17348/17348 [==============================] - 3s 151us/sample - loss: 0.0096 - accuracy: 0.9994 - f1_m: 0.9994 - precision_m: 0.9994 - recall_m: 0.9994 - val_loss: 0.9545 - val_accuracy: 0.8348 - val_f1_m: 0.8345 - val_precision_m: 0.8362 - val_recall_m: 0.8329\n",
      "Epoch 71/100\n",
      "17348/17348 [==============================] - 3s 151us/sample - loss: 0.0094 - accuracy: 0.9994 - f1_m: 0.9994 - precision_m: 0.9994 - recall_m: 0.9994 - val_loss: 0.9574 - val_accuracy: 0.8299 - val_f1_m: 0.8284 - val_precision_m: 0.8299 - val_recall_m: 0.8270\n",
      "Epoch 72/100\n",
      "17348/17348 [==============================] - 3s 168us/sample - loss: 0.0091 - accuracy: 0.9994 - f1_m: 0.9994 - precision_m: 0.9994 - recall_m: 0.9994 - val_loss: 0.9644 - val_accuracy: 0.8264 - val_f1_m: 0.8261 - val_precision_m: 0.8276 - val_recall_m: 0.8246\n",
      "Epoch 73/100\n",
      "17348/17348 [==============================] - 3s 173us/sample - loss: 0.0089 - accuracy: 0.9993 - f1_m: 0.9993 - precision_m: 0.9993 - recall_m: 0.9993 - val_loss: 0.9713 - val_accuracy: 0.8276 - val_f1_m: 0.8270 - val_precision_m: 0.8281 - val_recall_m: 0.8260\n",
      "Epoch 74/100\n",
      "17348/17348 [==============================] - 3s 175us/sample - loss: 0.0086 - accuracy: 0.9994 - f1_m: 0.9993 - precision_m: 0.9994 - recall_m: 0.9993 - val_loss: 0.9763 - val_accuracy: 0.8270 - val_f1_m: 0.8263 - val_precision_m: 0.8274 - val_recall_m: 0.8253\n",
      "Epoch 75/100\n",
      "17348/17348 [==============================] - 3s 178us/sample - loss: 0.0087 - accuracy: 0.9993 - f1_m: 0.9993 - precision_m: 0.9993 - recall_m: 0.9992 - val_loss: 0.9871 - val_accuracy: 0.8250 - val_f1_m: 0.8248 - val_precision_m: 0.8275 - val_recall_m: 0.8222\n",
      "Epoch 76/100\n",
      "17348/17348 [==============================] - 3s 159us/sample - loss: 0.0081 - accuracy: 0.9993 - f1_m: 0.9993 - precision_m: 0.9993 - recall_m: 0.9993 - val_loss: 0.9885 - val_accuracy: 0.8295 - val_f1_m: 0.8292 - val_precision_m: 0.8310 - val_recall_m: 0.8276\n",
      "Epoch 77/100\n",
      "17348/17348 [==============================] - 3s 156us/sample - loss: 0.0083 - accuracy: 0.9991 - f1_m: 0.9992 - precision_m: 0.9992 - recall_m: 0.9991 - val_loss: 1.0060 - val_accuracy: 0.8348 - val_f1_m: 0.8347 - val_precision_m: 0.8358 - val_recall_m: 0.8336\n",
      "Epoch 78/100\n",
      "17348/17348 [==============================] - 2s 133us/sample - loss: 0.0080 - accuracy: 0.9994 - f1_m: 0.9994 - precision_m: 0.9994 - recall_m: 0.9994 - val_loss: 1.0065 - val_accuracy: 0.8340 - val_f1_m: 0.8337 - val_precision_m: 0.8349 - val_recall_m: 0.8325\n",
      "Epoch 79/100\n",
      "17348/17348 [==============================] - 2s 130us/sample - loss: 0.0074 - accuracy: 0.9994 - f1_m: 0.9994 - precision_m: 0.9994 - recall_m: 0.9994 - val_loss: 1.0098 - val_accuracy: 0.8327 - val_f1_m: 0.8320 - val_precision_m: 0.8335 - val_recall_m: 0.8305\n",
      "Epoch 80/100\n",
      "17348/17348 [==============================] - 2s 128us/sample - loss: 0.0077 - accuracy: 0.9993 - f1_m: 0.9993 - precision_m: 0.9993 - recall_m: 0.9993 - val_loss: 1.0156 - val_accuracy: 0.8309 - val_f1_m: 0.8301 - val_precision_m: 0.8315 - val_recall_m: 0.8288\n",
      "Epoch 81/100\n",
      "17348/17348 [==============================] - 3s 147us/sample - loss: 0.0072 - accuracy: 0.9993 - f1_m: 0.9993 - precision_m: 0.9993 - recall_m: 0.9993 - val_loss: 1.0167 - val_accuracy: 0.8285 - val_f1_m: 0.8277 - val_precision_m: 0.8286 - val_recall_m: 0.8268\n",
      "Epoch 82/100\n",
      "17348/17348 [==============================] - 2s 134us/sample - loss: 0.0069 - accuracy: 0.9995 - f1_m: 0.9995 - precision_m: 0.9995 - recall_m: 0.9995 - val_loss: 1.0240 - val_accuracy: 0.8296 - val_f1_m: 0.8294 - val_precision_m: 0.8306 - val_recall_m: 0.8282\n",
      "Epoch 83/100\n",
      "17348/17348 [==============================] - 2s 144us/sample - loss: 0.0075 - accuracy: 0.9991 - f1_m: 0.9991 - precision_m: 0.9991 - recall_m: 0.9991 - val_loss: 1.0305 - val_accuracy: 0.8328 - val_f1_m: 0.8321 - val_precision_m: 0.8331 - val_recall_m: 0.8312\n",
      "Epoch 84/100\n",
      "17348/17348 [==============================] - 3s 150us/sample - loss: 0.0068 - accuracy: 0.9993 - f1_m: 0.9993 - precision_m: 0.9993 - recall_m: 0.9993 - val_loss: 1.0377 - val_accuracy: 0.8266 - val_f1_m: 0.8264 - val_precision_m: 0.8276 - val_recall_m: 0.8253\n",
      "Epoch 85/100\n",
      "17348/17348 [==============================] - 3s 175us/sample - loss: 0.0066 - accuracy: 0.9994 - f1_m: 0.9994 - precision_m: 0.9994 - recall_m: 0.9994 - val_loss: 1.0447 - val_accuracy: 0.8315 - val_f1_m: 0.8318 - val_precision_m: 0.8334 - val_recall_m: 0.8303\n",
      "Epoch 86/100\n",
      "17348/17348 [==============================] - 3s 202us/sample - loss: 0.0061 - accuracy: 0.9994 - f1_m: 0.9994 - precision_m: 0.9994 - recall_m: 0.9994 - val_loss: 1.0463 - val_accuracy: 0.8291 - val_f1_m: 0.8282 - val_precision_m: 0.8294 - val_recall_m: 0.8270\n",
      "Epoch 87/100\n",
      "17348/17348 [==============================] - 4s 217us/sample - loss: 0.0060 - accuracy: 0.9994 - f1_m: 0.9994 - precision_m: 0.9994 - recall_m: 0.9994 - val_loss: 1.0491 - val_accuracy: 0.8272 - val_f1_m: 0.8262 - val_precision_m: 0.8273 - val_recall_m: 0.8250\n",
      "Epoch 88/100\n",
      "17348/17348 [==============================] - 3s 198us/sample - loss: 0.0063 - accuracy: 0.9994 - f1_m: 0.9994 - precision_m: 0.9994 - recall_m: 0.9994 - val_loss: 1.0558 - val_accuracy: 0.8308 - val_f1_m: 0.8303 - val_precision_m: 0.8311 - val_recall_m: 0.8294\n",
      "Epoch 89/100\n",
      "17348/17348 [==============================] - 3s 178us/sample - loss: 0.0057 - accuracy: 0.9995 - f1_m: 0.9995 - precision_m: 0.9995 - recall_m: 0.9995 - val_loss: 1.0643 - val_accuracy: 0.8300 - val_f1_m: 0.8299 - val_precision_m: 0.8310 - val_recall_m: 0.8289\n"
     ]
    },
    {
     "name": "stdout",
     "output_type": "stream",
     "text": [
      "Epoch 90/100\n",
      "17348/17348 [==============================] - 3s 149us/sample - loss: 0.0060 - accuracy: 0.9994 - f1_m: 0.9994 - precision_m: 0.9994 - recall_m: 0.9994 - val_loss: 1.0704 - val_accuracy: 0.8350 - val_f1_m: 0.8340 - val_precision_m: 0.8352 - val_recall_m: 0.8328\n",
      "Epoch 91/100\n",
      "17348/17348 [==============================] - 2s 127us/sample - loss: 0.0057 - accuracy: 0.9994 - f1_m: 0.9994 - precision_m: 0.9994 - recall_m: 0.9994 - val_loss: 1.1040 - val_accuracy: 0.8022 - val_f1_m: 0.8020 - val_precision_m: 0.8044 - val_recall_m: 0.7997\n",
      "Epoch 92/100\n",
      "17348/17348 [==============================] - 2s 124us/sample - loss: 0.0064 - accuracy: 0.9991 - f1_m: 0.9991 - precision_m: 0.9991 - recall_m: 0.9991 - val_loss: 1.0813 - val_accuracy: 0.8221 - val_f1_m: 0.8212 - val_precision_m: 0.8225 - val_recall_m: 0.8199\n",
      "Epoch 93/100\n",
      "17348/17348 [==============================] - 2s 123us/sample - loss: 0.0055 - accuracy: 0.9995 - f1_m: 0.9995 - precision_m: 0.9995 - recall_m: 0.9995 - val_loss: 1.0733 - val_accuracy: 0.8292 - val_f1_m: 0.8288 - val_precision_m: 0.8299 - val_recall_m: 0.8277\n",
      "Epoch 94/100\n",
      "17348/17348 [==============================] - 2s 124us/sample - loss: 0.0055 - accuracy: 0.9994 - f1_m: 0.9994 - precision_m: 0.9994 - recall_m: 0.9994 - val_loss: 1.0768 - val_accuracy: 0.8313 - val_f1_m: 0.8303 - val_precision_m: 0.8314 - val_recall_m: 0.8292\n",
      "Epoch 95/100\n",
      "17348/17348 [==============================] - 2s 125us/sample - loss: 0.0069 - accuracy: 0.9987 - f1_m: 0.9986 - precision_m: 0.9987 - recall_m: 0.9986 - val_loss: 1.0830 - val_accuracy: 0.8297 - val_f1_m: 0.8288 - val_precision_m: 0.8300 - val_recall_m: 0.8276\n",
      "Epoch 96/100\n",
      "17348/17348 [==============================] - 2s 125us/sample - loss: 0.0051 - accuracy: 0.9995 - f1_m: 0.9995 - precision_m: 0.9995 - recall_m: 0.9995 - val_loss: 1.0893 - val_accuracy: 0.8299 - val_f1_m: 0.8287 - val_precision_m: 0.8297 - val_recall_m: 0.8277\n",
      "Epoch 97/100\n",
      "17348/17348 [==============================] - 2s 131us/sample - loss: 0.0057 - accuracy: 0.9991 - f1_m: 0.9992 - precision_m: 0.9992 - recall_m: 0.9991 - val_loss: 1.0901 - val_accuracy: 0.8272 - val_f1_m: 0.8264 - val_precision_m: 0.8275 - val_recall_m: 0.8253\n",
      "Epoch 98/100\n",
      "17348/17348 [==============================] - 2s 143us/sample - loss: 0.0052 - accuracy: 0.9991 - f1_m: 0.9991 - precision_m: 0.9991 - recall_m: 0.9991 - val_loss: 1.0989 - val_accuracy: 0.8312 - val_f1_m: 0.8307 - val_precision_m: 0.8315 - val_recall_m: 0.8299\n",
      "Epoch 99/100\n",
      "17348/17348 [==============================] - 3s 168us/sample - loss: 0.0054 - accuracy: 0.9994 - f1_m: 0.9994 - precision_m: 0.9994 - recall_m: 0.9994 - val_loss: 1.0990 - val_accuracy: 0.8273 - val_f1_m: 0.8264 - val_precision_m: 0.8278 - val_recall_m: 0.8250\n",
      "Epoch 100/100\n",
      "17348/17348 [==============================] - 3s 176us/sample - loss: 0.0050 - accuracy: 0.9994 - f1_m: 0.9994 - precision_m: 0.9994 - recall_m: 0.9994 - val_loss: 1.1039 - val_accuracy: 0.8301 - val_f1_m: 0.8293 - val_precision_m: 0.8304 - val_recall_m: 0.8282\n"
     ]
    },
    {
     "data": {
      "text/plain": [
       "<tensorflow.python.keras.callbacks.History at 0x66d1f6978>"
      ]
     },
     "execution_count": 17,
     "metadata": {},
     "output_type": "execute_result"
    }
   ],
   "source": [
    "def cnn(layers=2, filters=32, kernel_size=2, optimizer='sgd', pool_size=2, num_classes=3):\n",
    "    model = tf.keras.models.Sequential()\n",
    "    \n",
    "    for i in range(layers):\n",
    "        model.add(tf.keras.layers.Conv1D(filters=filters, kernel_size=kernel_size, activation='relu'))\n",
    "        model.add(tf.keras.layers.MaxPool1D(pool_size))\n",
    "    \n",
    "    # final fully connected layer \n",
    "    model.add(tf.keras.layers.Flatten())\n",
    "    model.add(tf.keras.layers.Dense(num_classes, activation=tf.nn.softmax))\n",
    "    model.compile(loss='categorical_crossentropy', optimizer=optimizer, metrics=['accuracy', f1_m, precision_m, recall_m])\n",
    "    return model\n",
    "\n",
    "model = cnn()\n",
    "X = np.array(data['tweet_embedded'].to_list())\n",
    "EPOCHS = 100\n",
    "model.fit(X, Y, epochs=EPOCHS, callbacks=[tensorboard_callback], validation_split=.3)"
   ]
  },
  {
   "cell_type": "code",
   "execution_count": 20,
   "metadata": {},
   "outputs": [
    {
     "data": {
      "text/html": [
       "\n",
       "      <iframe id=\"tensorboard-frame-94189d0f81cf57cd\" width=\"100%\" height=\"800\" frameborder=\"0\">\n",
       "      </iframe>\n",
       "      <script>\n",
       "        (function() {\n",
       "          const frame = document.getElementById(\"tensorboard-frame-94189d0f81cf57cd\");\n",
       "          const url = new URL(\"/\", window.location);\n",
       "          url.port = 6007;\n",
       "          frame.src = url;\n",
       "        })();\n",
       "      </script>\n",
       "  "
      ],
      "text/plain": [
       "<IPython.core.display.HTML object>"
      ]
     },
     "metadata": {},
     "output_type": "display_data"
    }
   ],
   "source": [
    "%tensorboard --logdir='logs_CNN'"
   ]
  },
  {
   "cell_type": "code",
   "execution_count": null,
   "metadata": {},
   "outputs": [],
   "source": []
  }
 ],
 "metadata": {
  "kernelspec": {
   "display_name": "Python 3",
   "language": "python",
   "name": "python3"
  },
  "language_info": {
   "codemirror_mode": {
    "name": "ipython",
    "version": 3
   },
   "file_extension": ".py",
   "mimetype": "text/x-python",
   "name": "python",
   "nbconvert_exporter": "python",
   "pygments_lexer": "ipython3",
   "version": "3.6.9"
  }
 },
 "nbformat": 4,
 "nbformat_minor": 2
}
